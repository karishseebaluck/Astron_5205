{
 "cells": [
  {
   "cell_type": "code",
   "execution_count": 1,
   "id": "f544a5f6",
   "metadata": {},
   "outputs": [],
   "source": [
    "import numpy as np\n",
    "import matplotlib.pyplot as plt\n",
    "import astropy.io.ascii "
   ]
  },
  {
   "cell_type": "code",
   "execution_count": 2,
   "id": "b9375aee",
   "metadata": {},
   "outputs": [
    {
     "data": {
      "text/plain": [
       "Text(0, 0.5, 'Normalized Flux')"
      ]
     },
     "execution_count": 2,
     "metadata": {},
     "output_type": "execute_result"
    },
    {
     "data": {
      "image/png": "[encoded data removed]",
      "text/plain": [
       "<Figure size 432x288 with 1 Axes>"
      ]
     },
     "metadata": {
      "needs_background": "light"
     },
     "output_type": "display_data"
    }
   ],
   "source": [
    "spec = astropy.io.ascii.read(\"solar_spectrum.txt\")\n",
    "\n",
    "plt.plot(spec[\"col1\"], spec[\"col2\"] / 1e4)\n",
    "# plt.vlines(5887.5, 0, 10000, color=\"red\")\n",
    "# plt.vlines(5892.5, 0, 10000, color=\"red\")\n",
    "plt.vlines(5893.5, 0, 1, color=\"red\")\n",
    "plt.vlines(5899, 0, 1, color=\"red\")\n",
    "plt.xlim(5885, 5900)\n",
    "plt.xlabel(\"Wavelength [Angstrom]\")\n",
    "plt.ylabel(\"Normalized Flux\")"
   ]
  },
  {
   "cell_type": "markdown",
   "id": "9e3d1ed3",
   "metadata": {},
   "source": [
    "## 1, Equivalent width (ew) is defined as the width of a rectangle with a height equal to that of continuum emission such that the area of the rectangle is equal to the area in the spectral line."
   ]
  },
  {
   "cell_type": "code",
   "execution_count": 3,
   "id": "4065f2b4",
   "metadata": {},
   "outputs": [
    {
     "name": "stdout",
     "output_type": "stream",
     "text": [
      "equivalent width (ew) =  0.7122700000155473  Angstrom\n",
      "-3.9180774812141386\n"
     ]
    }
   ],
   "source": [
    "ind = np.where((spec[\"col1\"] < 5899) & (spec[\"col1\"] > 5893.5))\n",
    "inc = np.median(np.diff(spec[\"col1\"][ind]))\n",
    "ew = np.sum(1e4 - spec[\"col2\"][ind]) * inc / 1e4\n",
    "print(\"equivalent width (ew) = \", ew, \" Angstrom\")\n",
    "\n",
    "print(np.log10(0.712 / 5896.0))"
   ]
  },
  {
   "cell_type": "markdown",
   "id": "8c666767",
   "metadata": {},
   "source": [
    "## Now find the number of Na atoms in absorbing state based on the following curve of growth plot:\n",
    "<img src=\"http://spiff.rit.edu/classes/phys440/lectures/curve/gcurve.jpg\" width=\"600 pt\">"
   ]
  },
  {
   "cell_type": "markdown",
   "id": "3123f05b",
   "metadata": {},
   "source": [
    "## log(W/$\\lambda$) = log(0.71 / 5890) = -3.92, where W is equivalent width.\n",
    "## The corresponding value on x-axis is log(Nf($\\lambda/5000\\overset{\\circ}{A}$))$\\sim$14.7."
   ]
  },
  {
   "cell_type": "code",
   "execution_count": 4,
   "id": "6c1c1a30",
   "metadata": {},
   "outputs": [
    {
     "name": "stdout",
     "output_type": "stream",
     "text": [
      "6.538816846196528\n"
     ]
    }
   ],
   "source": [
    "N_neutral = 10**14.7 / 0.65 / (5896 / 5000)\n",
    "print(N_neutral/1e14)"
   ]
  },
  {
   "cell_type": "markdown",
   "id": "81d879fb",
   "metadata": {},
   "source": [
    "## Rearranged, we have N = $6.54\\times10^{14}$ with the unit of atoms/cm$^2$, assuming f = 0.65, where f is the oscillator strength for this transition at 5896 $\\overset{\\circ}{A}$."
   ]
  },
  {
   "cell_type": "markdown",
   "id": "297cf71a",
   "metadata": {},
   "source": [
    "## 2, Estimate the ratio of sodium atoms in the ground state to sodium atoms in excited states using the Boltzmann equation:\n",
    "\n",
    "## $\\frac{N_2}{N_1} = \\frac{g_2}{g_1}\\exp\\left({-\\frac{E_2 - E_1}{kT}}\\right)$, where subscripts 1 and 2 refer to 3s and 3p states, $N$ is number density, $g$ is the number of separate, individual states that are degenerate in energy, $E$ is energy at the state, $k$ is Boltzmann constant, and $T$ is temperature."
   ]
  },
  {
   "cell_type": "markdown",
   "id": "c31d5869",
   "metadata": {},
   "source": [
    "Effective temperature of the sun is taken from [Reinhold et al. 2020](https://ui.adsabs.harvard.edu/abs/2020Sci...368..518R/abstract)\n",
    "\n",
    "Sodium energy levels are taken from [the Hyperphysics site](http://hyperphysics.phy-astr.gsu.edu/hbase/quantum/sodium.html#c1)\n",
    "\n",
    "Values for $g_2$ and $g_1$ are taken from the p and s shell degeneracies listed [here](https://www.chemicool.com/definition/degenerate.html)"
   ]
  },
  {
   "cell_type": "code",
   "execution_count": 5,
   "id": "bf4d5fd5",
   "metadata": {},
   "outputs": [],
   "source": [
    "# Programming values for the Boltzmann equation\n",
    "\n",
    "k = 1.380649E-23  #kg*m^2*s^-2*K^-1\n",
    "\n",
    "T = 5780 #effective temperature of the Sun, units of Kelvin\n",
    "\n",
    "E_2 = -3.04*1.60218E-19 #3p energy level in joules\n",
    "E_1 = -5.14*1.60218E-19 #3s engery level in joules\n",
    "delta_E = np.absolute(E_2-E_1)\n",
    "\n",
    "g_2 = 3\n",
    "g_1 = 1"
   ]
  },
  {
   "cell_type": "code",
   "execution_count": 6,
   "id": "c15755dc",
   "metadata": {},
   "outputs": [
    {
     "name": "stdout",
     "output_type": "stream",
     "text": [
      "The ratio of excited sodium atoms to ground state atoms is 0.04426455774337758\n"
     ]
    }
   ],
   "source": [
    "# calculating the Boltzmann equation\n",
    "\n",
    "boltz_Na = (g_2/g_1)*np.exp(-delta_E/(k*T))\n",
    "print(\"The ratio of excited sodium atoms to ground state atoms is\", boltz_Na)"
   ]
  },
  {
   "cell_type": "markdown",
   "id": "cad4146e",
   "metadata": {},
   "source": [
    "## 3, Estimate the ratio of neutral sodium atoms to ionized sodium atoms. You will use the Saha equation:\n",
    "\n",
    "## $\\frac{Na_{II}}{Na_{I}} = \\frac{2kT}{P_e} \\frac{Z_{II}}{Z_I} \\left(\\frac{2\\pi m_e kT}{h^2}\\right)^{3/2}\\exp{\\left(-\\frac{\\chi}{kT}\\right)}$, where $m_e$ is electron mass, partition function $Z_I = 2.4$ and  $Z_{II} = 1.0$, electron pressure $P_e = n_e kT = 1.0 N\\cdot m^{-2}$, and the ionization energy $\\chi = 5.1$ eV. Note that the values given are for the sodium line only. Other lines have different values. "
   ]
  },
  {
   "cell_type": "code",
   "execution_count": 7,
   "id": "75482228",
   "metadata": {},
   "outputs": [],
   "source": [
    "#Programming values for the Saha equation\n",
    "chi = 5.1 #eV\n",
    "chi_J = chi*1.60218E-19 #joules\n",
    "\n",
    "P_e = 1 #kg m^-1 s^-2\n",
    "\n",
    "Z_1 = 2.4 #unitless\n",
    "Z_2 = 1.0 #unitless\n",
    "\n",
    "m_e = 9.1093837E-31 #kg\n",
    "\n",
    "k = 1.380649E-23  #kg*m^2*s^-2*K^-1\n",
    "\n",
    "h = 6.62607015E-34 #m^2 kg s^-1\n",
    "\n",
    "T = 5780 #effective temperature of the Sun, units of Kelvin"
   ]
  },
  {
   "cell_type": "code",
   "execution_count": 8,
   "id": "8d686f78",
   "metadata": {},
   "outputs": [
    {
     "name": "stdout",
     "output_type": "stream",
     "text": [
      "The ratio of ionized to neutral sodium atoms is 2521.7923165903635\n"
     ]
    }
   ],
   "source": [
    "#Programming the Saha equation\n",
    "\n",
    "saha_Na = ((2*k*T)/P_e)*(Z_2/Z_1)*((2*np.pi*m_e*k*T)**(3/2)/h**3)*np.exp(-chi_J/(k*T))\n",
    "print(\"The ratio of ionized to neutral sodium atoms is\", saha_Na)"
   ]
  },
  {
   "cell_type": "markdown",
   "id": "e089444f",
   "metadata": {},
   "source": [
    "## 4, Compute the total column density of sodium atoms in the sun's photosphere, assuming the total number of sodium atoms equals to: $N_{1} \\times (1+\\frac{N_2}{N_1}) \\times (1+\\frac{Na_{II}}{Na_{I}}$). $N_1$ is measured from the curve of growth. The last two terms have been calculated in question 1 and 2. "
   ]
  },
  {
   "cell_type": "code",
   "execution_count": 9,
   "id": "f812a101",
   "metadata": {},
   "outputs": [
    {
     "name": "stdout",
     "output_type": "stream",
     "text": [
      "The column density of sodium atoms in the photosphere is 1.7226268447619016e+18\n"
     ]
    }
   ],
   "source": [
    "#Entering values\n",
    "\n",
    "N0 = N_neutral\n",
    "N_exc = boltz_Na\n",
    "N_ion = saha_Na\n",
    "                          \n",
    "# calculating column density\n",
    "CD_Na = N0 * (1+N_exc) * (1+N_ion)\n",
    "print(\"The column density of sodium atoms in the photosphere is\", CD_Na)"
   ]
  },
  {
   "cell_type": "code",
   "execution_count": 10,
   "id": "aad8c811",
   "metadata": {},
   "outputs": [
    {
     "name": "stdout",
     "output_type": "stream",
     "text": [
      "The ratio of sodium atoms to hydrogen atoms in the photosphere is 2.610040673881669e-06\n",
      "The abundance of sodium atoms in the photosphere is: 6.416647275271127\n"
     ]
    }
   ],
   "source": [
    "# Ratio of abundance\n",
    "# Physicist way\n",
    "N_H = 6.6e23\n",
    "Na_ratio_p = CD_Na / N_H\n",
    "print(\"The ratio of sodium atoms to hydrogen atoms in the photosphere is\", Na_ratio_p)\n",
    "\n",
    "Mass_density_Na = 23 * CD_Na\n",
    "Mass_density_H = N_H\n",
    "logNa = 12 + np.log10(CD_Na / Mass_density_H)\n",
    "print(\"The abundance of sodium atoms in the photosphere is:\",logNa)"
   ]
  },
  {
   "cell_type": "markdown",
   "id": "c4164cee",
   "metadata": {},
   "source": [
    "# The rest will be for Mg b1 line with wavelength 5183.6"
   ]
  },
  {
   "cell_type": "code",
   "execution_count": 11,
   "id": "0dc9c4a0",
   "metadata": {},
   "outputs": [
    {
     "data": {
      "text/plain": [
       "Text(0, 0.5, 'Normalized Flux')"
      ]
     },
     "execution_count": 11,
     "metadata": {},
     "output_type": "execute_result"
    },
    {
     "data": {
      "image/png": "[encoded data removed]",
      "text/plain": [
       "<Figure size 432x288 with 1 Axes>"
      ]
     },
     "metadata": {
      "needs_background": "light"
     },
     "output_type": "display_data"
    }
   ],
   "source": [
    "spec2 = astropy.io.ascii.read(\"Mg5184.txt\")\n",
    "\n",
    "plt.plot(spec2[\"col1\"], spec2[\"col2\"] / 1e4)\n",
    "# plt.vlines(5887.5, 0, 10000, color=\"red\")\n",
    "# plt.vlines(5892.5, 0, 10000, color=\"red\")\n",
    "plt.vlines(5180.7, 0, 1, color=\"red\")\n",
    "plt.vlines(5187, 0, 1, color=\"red\")\n",
    "plt.xlim(5175, 5195)\n",
    "plt.xlabel(\"Wavelength [Angstrom]\")\n",
    "plt.ylabel(\"Normalized Flux\")"
   ]
  },
  {
   "cell_type": "markdown",
   "id": "76ba48f3",
   "metadata": {},
   "source": [
    "## 1, Equivalent width (ew) is defined as the width of a rectangle with a height equal to that of continuum emission such that the area of the rectangle is equal to the area in the spectral line."
   ]
  },
  {
   "cell_type": "code",
   "execution_count": 12,
   "id": "62ebc931",
   "metadata": {},
   "outputs": [
    {
     "name": "stdout",
     "output_type": "stream",
     "text": [
      "equivalent width (ew) =  1.7299811999976555  Angstrom\n",
      "-3.4765853780641462\n"
     ]
    }
   ],
   "source": [
    "ind = np.where((spec2[\"col1\"] < 5187) & (spec2[\"col1\"] > 5180.7))\n",
    "inc = np.median(np.diff(spec2[\"col1\"][ind]))\n",
    "ew = np.sum(1e4 - spec2[\"col2\"][ind]) * inc / 1e4\n",
    "print(\"equivalent width (ew) = \", ew, \" Angstrom\")\n",
    "\n",
    "print(np.log10(1.73 / 5183.6))"
   ]
  },
  {
   "cell_type": "markdown",
   "id": "33d08538",
   "metadata": {},
   "source": [
    "## Now find the number of Mg atoms in absorbing state based on the following curve of growth plot:\n",
    "<img src=\"http://spiff.rit.edu/classes/phys440/lectures/curve/gcurve.jpg\" width=\"600 pt\">\n",
    "\n",
    "## log(W/$\\lambda$) = log(0.71 / 5890) = -3.48, where W is equivalent width.\n",
    "## The corresponding value on x-axis is log(Nf($\\lambda/5000\\overset{\\circ}{A}$))$\\sim$15.1."
   ]
  },
  {
   "cell_type": "code",
   "execution_count": 13,
   "id": "6390bed2",
   "metadata": {},
   "outputs": [
    {
     "name": "stdout",
     "output_type": "stream",
     "text": [
      "1.8682077377085218\n"
     ]
    }
   ],
   "source": [
    "Mg_neutral = 10**15.1 / 0.65 / (5183.6 / 5000)\n",
    "print(Mg_neutral/1e15)"
   ]
  },
  {
   "cell_type": "markdown",
   "id": "df6390b9",
   "metadata": {},
   "source": [
    "## Rearranged, we have N = $1.87\\times10^{15}$ with the unit of atoms/cm$^2$, assuming f = 0.32, where f is the oscillator strength for this transition at 5183.6 $\\overset{\\circ}{A}$. Found at https://www.aanda.org/articles/aa/pdf/2017/02/aa29849-16.pdf"
   ]
  },
  {
   "cell_type": "markdown",
   "id": "e02161d3",
   "metadata": {},
   "source": [
    "## 2, Estimate the ratio of Mg atoms in the ground state to sodium atoms in excited states using the Boltzmann equation:\n",
    "\n",
    "## $\\frac{N_2}{N_1} = \\frac{g_2}{g_1}\\exp\\left({-\\frac{E_2 - E_1}{kT}}\\right)$, where subscripts 1 and 2 refer to 3s and 3p states, $N$ is number density, $g$ is the number of separate, individual states that are degenerate in energy, $E$ is energy at the state, $k$ is Boltzmann constant, and $T$ is temperature."
   ]
  },
  {
   "cell_type": "code",
   "execution_count": 14,
   "id": "63a36c33",
   "metadata": {},
   "outputs": [
    {
     "name": "stdout",
     "output_type": "stream",
     "text": [
      "The ratio of excited Magnesium atoms to ground state atoms is 0.02463664984401851\n"
     ]
    }
   ],
   "source": [
    "# Programming values for the Boltzmann equation\n",
    "\n",
    "k = 1.380649E-23  #kg*m^2*s^-2*K^-1\n",
    "\n",
    "T = 5780 #effective temperature of the Sun, units of Kelvin\n",
    "\n",
    "c = 299792458 #m/s\n",
    "\n",
    "E = (h * c) / (5183.6e-10)\n",
    "\n",
    "g1 = 2\n",
    "g2 = 6\n",
    "\n",
    "# calculating the Boltzmann equation\n",
    "\n",
    "boltz_Mg = (g2/g1)*np.exp(-E/(k*T))\n",
    "print(\"The ratio of excited Magnesium atoms to ground state atoms is\", boltz_Mg)"
   ]
  },
  {
   "cell_type": "markdown",
   "id": "c5df6842",
   "metadata": {},
   "source": [
    "## 3, Estimate the ratio of neutral Mg atoms to ionized Mg atoms. You will use the Saha equation:\n",
    "\n",
    "## $\\frac{Na_{II}}{Na_{I}} = \\frac{2kT}{P_e} \\frac{Z_{II}}{Z_I} \\left(\\frac{2\\pi m_e kT}{h^2}\\right)^{3/2}\\exp{\\left(-\\frac{\\chi}{kT}\\right)}$, where $m_e$ is electron mass, partition function $Z_I = 2.4$ and  $Z_{II} = 1.0$, electron pressure $P_e = n_e kT = 1.0 N\\cdot m^{-2}$, and the ionization energy $\\chi = 7.65$ eV"
   ]
  },
  {
   "cell_type": "code",
   "execution_count": 15,
   "id": "37967b82",
   "metadata": {},
   "outputs": [
    {
     "name": "stdout",
     "output_type": "stream",
     "text": [
      "The ratio of ionized to neutral Mg atoms is 15.075547507885664\n"
     ]
    }
   ],
   "source": [
    "#Programming values for the Saha equation\n",
    "chi = 7.65 #eV\n",
    "chi_J = chi*1.60218E-19 #joules\n",
    "\n",
    "P_e = 1 #kg m^-1 s^-2\n",
    "\n",
    "Z_1 = 2.4 #unitless\n",
    "Z_2 = 1.0 #unitless\n",
    "\n",
    "m_e = 9.1093837E-31 #kg\n",
    "\n",
    "k = 1.380649E-23  #kg*m^2*s^-2*K^-1\n",
    "\n",
    "h = 6.62607015E-34 #m^2 kg s^-1\n",
    "\n",
    "T = 5780 #effective temperature of the Sun, units of Kelvin\n",
    "\n",
    "#Programming the Saha equation\n",
    "\n",
    "saha_Mg = ((2*k*T)/P_e)*(Z_2/Z_1)*((2*np.pi*m_e*k*T)**(3/2)/h**3)*np.exp(-chi_J/(k*T))\n",
    "print(\"The ratio of ionized to neutral Mg atoms is\", saha_Mg)"
   ]
  },
  {
   "cell_type": "code",
   "execution_count": 16,
   "id": "15457d8f",
   "metadata": {},
   "outputs": [
    {
     "name": "stdout",
     "output_type": "stream",
     "text": [
      "The column density of Mg atoms in the photosphere is 3.077236149834608e+16\n"
     ]
    }
   ],
   "source": [
    "#Entering values\n",
    "\n",
    "Mg0 = Mg_neutral\n",
    "Mg_exc = boltz_Mg\n",
    "Mg_ion = saha_Mg\n",
    "                          \n",
    "# calculating column density\n",
    "CD_Mg = Mg0 * (1+Mg_exc) * (1+Mg_ion)\n",
    "print(\"The column density of Mg atoms in the photosphere is\", CD_Mg)"
   ]
  },
  {
   "cell_type": "code",
   "execution_count": 17,
   "id": "90b498f0",
   "metadata": {},
   "outputs": [
    {
     "name": "stdout",
     "output_type": "stream",
     "text": [
      "The ratio of Mg atoms to hydrogen atoms in the photosphere is 4.662479014900921e-08\n",
      "The abundance of Magnesium atoms in the photosphere is: 4.668616890128649\n"
     ]
    }
   ],
   "source": [
    "# Ratio of abundance\n",
    "# Physicist way\n",
    "N_H = 6.6e23\n",
    "Mg_ratio_p = CD_Mg / N_H\n",
    "print(\"The ratio of Mg atoms to hydrogen atoms in the photosphere is\", Mg_ratio_p)\n",
    "\n",
    "Mass_density_Mg = 24.35 * CD_Mg\n",
    "Mass_density_H = N_H\n",
    "logMg = 12 + np.log10(CD_Mg / Mass_density_H)\n",
    "print(\"The abundance of Magnesium atoms in the photosphere is:\",logMg)"
   ]
  }
 ],
 "metadata": {
  "kernelspec": {
   "display_name": "Python 3 (ipykernel)",
   "language": "python",
   "name": "python3"
  },
  "language_info": {
   "codemirror_mode": {
    "name": "ipython",
    "version": 3
   },
   "file_extension": ".py",
   "mimetype": "text/x-python",
   "name": "python",
   "nbconvert_exporter": "python",
   "pygments_lexer": "ipython3",
   "version": "3.9.7"
  }
 },
 "nbformat": 4,
 "nbformat_minor": 5
}
