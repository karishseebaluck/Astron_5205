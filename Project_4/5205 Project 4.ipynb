{
 "cells": [
  {
   "cell_type": "markdown",
   "metadata": {},
   "source": [
    "# GJ 1132 System Study"
   ]
  },
  {
   "cell_type": "markdown",
   "metadata": {},
   "source": [
    "### Stellar Metallicity of Host Star GJ 1132"
   ]
  },
  {
   "cell_type": "code",
   "execution_count": 71,
   "metadata": {},
   "outputs": [
    {
     "name": "stdout",
     "output_type": "stream",
     "text": [
      "Stellar abundances for GJ 1132\n",
      "(Fe/H):  2.2908676527677752e-05\n",
      "(Mg/H):  2.4603676041476277e-05\n",
      "(Si/Mg):  0.879\n",
      "(Fe/Mg):  0.9311\n"
     ]
    }
   ],
   "source": [
    "import numpy as np\n",
    "\n",
    "star_fe_over_h = -0.12 # [Fe/H]\n",
    "\n",
    "# From Griffiths et al. 2009\n",
    "mg_over_h = -0.149  # [Mg/H]\n",
    "si_over_mg = -.036 # [Si/Mg]\n",
    "\n",
    "def molar_abundance(val):\n",
    "    return 10**(val - 12)\n",
    "\n",
    "def stellar_fraction(val,sun_val):\n",
    "    return 10**(val) * sun_val\n",
    "\n",
    "sun_fe = 7.48\n",
    "sun_fe_h_mol = molar_abundance(sun_fe)\n",
    "star_fe_h_mol = stellar_fraction(star_fe_over_h, sun_fe_h_mol)\n",
    "\n",
    "sun_mg = 7.54\n",
    "sun_mg_h_mol = molar_abundance(sun_mg)\n",
    "star_mg_h_mol = stellar_fraction(mg_over_h, sun_mg_h_mol)\n",
    "\n",
    "sun_si = 7.52\n",
    "sun_si_h_mol = molar_abundance(sun_si)\n",
    "sun_si_mg_mol = sun_si_h_mol / sun_mg_h_mol\n",
    "star_si_mg_mol = stellar_fraction(si_over_mg, sun_si_mg_mol)\n",
    "\n",
    "star_fe_over_mg = star_fe_h_mol / star_mg_h_mol\n",
    "\n",
    "print('Stellar abundances for GJ 1132')\n",
    "print('(Fe/H): ', star_fe_h_mol)\n",
    "print('(Mg/H): ', star_mg_h_mol)\n",
    "print('(Si/Mg): ', round(star_si_mg_mol,4))\n",
    "print('(Fe/Mg): ', round(star_fe_over_mg,4))"
   ]
  },
  {
   "cell_type": "markdown",
   "metadata": {},
   "source": [
    "### Orbital Radius of GJ 1132 b\n",
    "##### Kastings et al. 1993  (https://www.sciencedirect.com/sdfe/reader/pii/S0019103583710109/pdf)"
   ]
  },
  {
   "cell_type": "code",
   "execution_count": 72,
   "metadata": {},
   "outputs": [
    {
     "name": "stdout",
     "output_type": "stream",
     "text": [
      "Habitable Zone Limits\n",
      "Inner Edge:  0.06866  AU\n",
      "Outer Edge:  0.09901  AU\n"
     ]
    }
   ],
   "source": [
    "l_sun = 3.846e26 # watts\n",
    "l_star = 10**-2.2821*(l_sun)\n",
    "t_star = 3261 # kelvin\n",
    "\n",
    "r_min = np.sqrt(l_star/l_sun) * .95\n",
    "r_max = np.sqrt(l_star/l_sun) * 1.37\n",
    "\n",
    "print('Habitable Zone Limits')\n",
    "print('Inner Edge: ', round(r_min,5), ' AU')\n",
    "print('Outer Edge: ', round(r_max,5), ' AU')\n",
    "\n",
    "star_fe_over_h = -0.12 # [Fe/H]"
   ]
  },
  {
   "cell_type": "markdown",
   "metadata": {},
   "source": [
    "### Mantle Mineralogy pf GJ 1132 b (Exoplex)"
   ]
  },
  {
   "cell_type": "code",
   "execution_count": 75,
   "metadata": {},
   "outputs": [
    {
     "name": "stdout",
     "output_type": "stream",
     "text": [
      "Composition Ratios to Earth\n",
      "FeO:  1\n",
      "SiO2:  0.98879\n",
      "MgO:  1.01242\n",
      "CaO:  1.01242\n",
      "Al2O3:  1.01242\n"
     ]
    }
   ],
   "source": [
    "compounds = ['FeO: ', 'SiO2: ', 'MgO: ', 'CaO: ', 'Al2O3: ']\n",
    "\n",
    "# Earth values\n",
    "earth_comp = [0, 52.55497015, 39.17101638, 3.81493827, 4.45907521]\n",
    "\n",
    "# GJ 1132 b values FIX !!!!!!!!!!!\n",
    "planet_comp = [0, 51.96593677, 39.65732729, 3.86230099, 4.51443494]\n",
    "\n",
    "comp_ratios = []\n",
    "comp_ratios.append(1)\n",
    "for i in range(len(earth_comp)-1):\n",
    "    comp_ratios.append(planet_comp[i+1] / earth_comp[i+1])\n",
    "\n",
    "print('Composition Ratios to Earth')\n",
    "for i in range(len(comp_ratios)):\n",
    "    print(compounds[i], round(comp_ratios[i],5))"
   ]
  },
  {
   "cell_type": "code",
   "execution_count": 29,
   "metadata": {},
   "outputs": [],
   "source": [
    "# Run python_group1.py"
   ]
  },
  {
   "cell_type": "code",
   "execution_count": null,
   "metadata": {},
   "outputs": [],
   "source": []
  }
 ],
 "metadata": {
  "kernelspec": {
   "display_name": "Python 3",
   "language": "python",
   "name": "python3"
  },
  "language_info": {
   "codemirror_mode": {
    "name": "ipython",
    "version": 3
   },
   "file_extension": ".py",
   "mimetype": "text/x-python",
   "name": "python",
   "nbconvert_exporter": "python",
   "pygments_lexer": "ipython3",
   "version": "3.7.4"
  }
 },
 "nbformat": 4,
 "nbformat_minor": 2
}
