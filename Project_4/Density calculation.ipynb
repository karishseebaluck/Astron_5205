{
 "cells": [
  {
   "cell_type": "code",
   "execution_count": 1,
   "metadata": {},
   "outputs": [],
   "source": [
    "import numpy as np"
   ]
  },
  {
   "cell_type": "code",
   "execution_count": 2,
   "metadata": {},
   "outputs": [],
   "source": [
    "# Masses in kg\n",
    "# Mass is 1.66+-0.23 Earth masses but exoplex crashes for mass>1.82\n",
    "\n",
    "m_mean= 1.66*6e+24\n",
    "m_min = 1.43*6e+24\n",
    "m_max = 1.82*6e+24\n",
    "\n",
    "# Corresponding radii calculated with exoplex\n",
    "\n",
    "r_mean = 1.149*6.4e+6\n",
    "r_min = 1.102*6.4e+6\n",
    "r_max = 1.179*6.4e+6\n",
    "\n",
    "# Density calculation based on values above\n",
    "# Densities in kg/m^3\n",
    "rho_mean = m_mean / ( 4/3 *np.pi*(r_mean ** 3))\n",
    "rho_min = m_min / ( 4/3 *np.pi*(r_min ** 3))\n",
    "rho_max = m_max / ( 4/3 *np.pi*(r_max ** 3))"
   ]
  },
  {
   "cell_type": "code",
   "execution_count": 3,
   "metadata": {},
   "outputs": [
    {
     "name": "stdout",
     "output_type": "stream",
     "text": [
      "5979.580557287502\n",
      "5838.670582198925\n",
      "6068.0994780834235\n"
     ]
    }
   ],
   "source": [
    "print(rho_mean)\n",
    "print(rho_min)\n",
    "print(rho_max)"
   ]
  },
  {
   "cell_type": "code",
   "execution_count": 4,
   "metadata": {},
   "outputs": [
    {
     "name": "stdout",
     "output_type": "stream",
     "text": [
      "5.979580557287503\n",
      "5.838670582198925\n",
      "6.068099478083424\n"
     ]
    }
   ],
   "source": [
    "# Densities in g/cm^3\n",
    "print(rho_mean/1000)\n",
    "print(rho_min/1000)\n",
    "print(rho_max/1000)"
   ]
  }
 ],
 "metadata": {
  "kernelspec": {
   "display_name": "Python 3.8 (py38)",
   "language": "python",
   "name": "py38"
  },
  "language_info": {
   "codemirror_mode": {
    "name": "ipython",
    "version": 3
   },
   "file_extension": ".py",
   "mimetype": "text/x-python",
   "name": "python",
   "nbconvert_exporter": "python",
   "pygments_lexer": "ipython3",
   "version": "3.8.5"
  }
 },
 "nbformat": 4,
 "nbformat_minor": 4
}
